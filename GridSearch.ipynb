{
  "nbformat": 4,
  "nbformat_minor": 0,
  "metadata": {
    "colab": {
      "name": "GridSearch.ipynb",
      "provenance": [],
      "authorship_tag": "ABX9TyM3gH+xNSsDyH3LcTjMM/qA",
      "include_colab_link": true
    },
    "kernelspec": {
      "name": "python3",
      "display_name": "Python 3"
    },
    "language_info": {
      "name": "python"
    }
  },
  "cells": [
    {
      "cell_type": "markdown",
      "metadata": {
        "id": "view-in-github",
        "colab_type": "text"
      },
      "source": [
        "<a href=\"https://colab.research.google.com/github/czarinagluna/vaccination-status-classification/blob/main/GridSearch.ipynb\" target=\"_parent\"><img src=\"https://colab.research.google.com/assets/colab-badge.svg\" alt=\"Open In Colab\"/></a>"
      ]
    },
    {
      "cell_type": "markdown",
      "source": [
        "# Search for Optimal Parameters of Classification Models\n",
        "Hyperparameter Tuning of *IV. Classification Models* in [Main Notebook](https://github.com/czarinagluna/vaccination-status-classification/blob/main/main.ipynb)\n",
        "***\n",
        "Authors: [Czarina Luna](https://www.linkedin.com/in/czarinaluna/), Weston Shuken, Justin Sohn"
      ],
      "metadata": {
        "id": "bZ25BM7a2q6H"
      }
    },
    {
      "cell_type": "code",
      "execution_count": 1,
      "metadata": {
        "id": "YziAaulqyCQU"
      },
      "outputs": [],
      "source": [
        "import pandas as pd\n",
        "labels = pd.read_csv('/content/training_set_labels.csv')\n",
        "features = pd.read_csv('/content/training_set_features.csv')\n",
        "data = pd.merge(features, labels, on='respondent_id').drop(columns='respondent_id')"
      ]
    },
    {
      "cell_type": "code",
      "source": [
        "from sklearn.model_selection import train_test_split\n",
        "\n",
        "X = data.drop(columns=['h1n1_vaccine'])\n",
        "y = data['h1n1_vaccine']\n",
        "\n",
        "X_train, X_test, y_train, y_test = train_test_split(X, y, random_state=112221, stratify=y)"
      ],
      "metadata": {
        "id": "iLtqWbAOzss6"
      },
      "execution_count": 2,
      "outputs": []
    },
    {
      "cell_type": "code",
      "source": [
        "from imblearn.over_sampling import RandomOverSampler\n",
        "\n",
        "oversample = RandomOverSampler(sampling_strategy='minority', random_state=112221)\n",
        "X_train_res, y_train_res = oversample.fit_resample(X_train, y_train)"
      ],
      "metadata": {
        "id": "VyyzGC6dzzlk"
      },
      "execution_count": 3,
      "outputs": []
    },
    {
      "cell_type": "code",
      "source": [
        "from sklearn.pipeline import Pipeline\n",
        "from sklearn.impute import SimpleImputer\n",
        "from sklearn.preprocessing import StandardScaler, OneHotEncoder\n",
        "from sklearn.compose import ColumnTransformer\n",
        "\n",
        "numeric_transformer = Pipeline(\n",
        "    steps=[('num_imputer', SimpleImputer(strategy='median', add_indicator=True)), \n",
        "           ('scaler', StandardScaler())])\n",
        "\n",
        "categorical_transformer = Pipeline(\n",
        "    steps=[('cat_imputer', SimpleImputer(strategy='most_frequent')),\n",
        "           ('ohe', OneHotEncoder(sparse=False, handle_unknown='ignore'))])\n",
        "\n",
        "num_features = list(range(0, 21)) + [31, 32]\n",
        "cat_features = list(range(21, 31)) + [33, 34, 35]\n",
        "\n",
        "preprocessor = ColumnTransformer(\n",
        "    transformers=[('num', numeric_transformer, num_features),\n",
        "                  ('cat', categorical_transformer, cat_features)], remainder='passthrough')"
      ],
      "metadata": {
        "id": "4NwF4FpXyNxI"
      },
      "execution_count": 4,
      "outputs": []
    },
    {
      "cell_type": "code",
      "source": [
        "from sklearn.linear_model import LogisticRegression\n",
        "from sklearn.tree import DecisionTreeClassifier\n",
        "from sklearn.ensemble import RandomForestClassifier, ExtraTreesClassifier, GradientBoostingClassifier\n",
        "\n",
        "default_models = {'LogisticRegression': {'classifier': LogisticRegression(random_state=112221)},\n",
        "                  'DecisionTree': {'classifier': DecisionTreeClassifier(random_state=112221)},\n",
        "                  'RandomForest': {'classifier': RandomForestClassifier(random_state=112221)},\n",
        "                  'ExtraTrees': {'classifier': ExtraTreesClassifier(random_state=112221)},\n",
        "                  'GradientBoost': {'classifier': GradientBoostingClassifier(random_state=112221)}}"
      ],
      "metadata": {
        "id": "tqQw1yg7yOM_"
      },
      "execution_count": 5,
      "outputs": []
    },
    {
      "cell_type": "code",
      "source": [
        "import time\n",
        "\n",
        "from sklearn.model_selection import train_test_split, GridSearchCV\n",
        "from sklearn.pipeline import Pipeline\n",
        "\n",
        "tuned_params = {}\n",
        "\n",
        "def grid_search(params, name, scoring='accuracy', X_train=X_train, y_train=y_train):\n",
        "    '''\n",
        "    Performs grid search on classification models, returns best cross validation scores and parameters\n",
        "    '''\n",
        "    for model, grid in params.items():\n",
        "        print(f'Running... {model} GridSearch')\n",
        "        print(f'Time Started: {time.asctime()}')\n",
        "        \n",
        "        pipe = Pipeline(steps=[('col_transformer', preprocessor), \n",
        "                               ('classifier', default_models[model]['classifier'])])\n",
        "        \n",
        "        gridsearch = GridSearchCV(estimator=pipe, param_grid=grid, scoring=scoring, cv=5)\n",
        "        gridsearch.fit(X_train, y_train)\n",
        "        \n",
        "        print(f'Time Finished: {time.asctime()}\\n')\n",
        "        print(f'Best cross validation score: {gridsearch.best_score_ :.2%}')\n",
        "        print(f'Optimal parameters: {gridsearch.best_params_}')\n",
        "        \n",
        "        tuned_params[name] = gridsearch.best_params_\n",
        "        \n",
        "import warnings\n",
        "warnings.filterwarnings('ignore')"
      ],
      "metadata": {
        "id": "SJN36PNpySXu"
      },
      "execution_count": 6,
      "outputs": []
    },
    {
      "cell_type": "code",
      "source": [
        "params_lr1 = {'LogisticRegression': [{\n",
        "    'classifier__penalty':['l1', 'l2', 'elasticnet'],\n",
        "    'classifier__C':[0.01, 0.1, 1],\n",
        "    'classifier__fit_intercept':[True, False],\n",
        "    'classifier__solver':['lbfgs', 'saga']\n",
        "}]}\n",
        "\n",
        "grid_search(params_lr1, name='LogisticRegression')"
      ],
      "metadata": {
        "colab": {
          "base_uri": "https://localhost:8080/"
        },
        "id": "gXBRn-1yz5d2",
        "outputId": "b529f9fa-2ebe-4df7-d9a4-323509430b64"
      },
      "execution_count": 7,
      "outputs": [
        {
          "output_type": "stream",
          "name": "stdout",
          "text": [
            "Running... LogisticRegression GridSearch\n",
            "Time Started: Thu Apr 21 20:31:17 2022\n",
            "Time Finished: Thu Apr 21 20:35:32 2022\n",
            "\n",
            "Best cross validation score: 86.76%\n",
            "Optimal parameters: {'classifier__C': 1, 'classifier__fit_intercept': False, 'classifier__penalty': 'l1', 'classifier__solver': 'saga'}\n"
          ]
        }
      ]
    },
    {
      "cell_type": "code",
      "source": [
        "grid_search(params_lr1, name='LogisticRegression_o', X_train=X_train_res, y_train=y_train_res)"
      ],
      "metadata": {
        "colab": {
          "base_uri": "https://localhost:8080/"
        },
        "id": "quq5xTOKz8oG",
        "outputId": "83dc1d12-6b43-4ab3-841b-1f6c5b1d8aa2"
      },
      "execution_count": 8,
      "outputs": [
        {
          "output_type": "stream",
          "name": "stdout",
          "text": [
            "Running... LogisticRegression GridSearch\n",
            "Time Started: Thu Apr 21 20:35:32 2022\n",
            "Time Finished: Thu Apr 21 20:41:54 2022\n",
            "\n",
            "Best cross validation score: 82.12%\n",
            "Optimal parameters: {'classifier__C': 1, 'classifier__fit_intercept': True, 'classifier__penalty': 'l2', 'classifier__solver': 'saga'}\n"
          ]
        }
      ]
    },
    {
      "cell_type": "code",
      "source": [
        "params_lr2 = {'LogisticRegression': [{\n",
        "    'classifier__penalty':['l1', 'l2', 'elasticnet'],\n",
        "    'classifier__C':[1, 10, 100],\n",
        "    'classifier__fit_intercept':[True, False],\n",
        "    'classifier__solver':['lbfgs', 'saga']\n",
        "}]}\n",
        "\n",
        "grid_search(params_lr2, name='LogisticRegression2')"
      ],
      "metadata": {
        "colab": {
          "base_uri": "https://localhost:8080/"
        },
        "id": "PaAokfYh2pxy",
        "outputId": "3b5aa84a-7d39-4ea1-94ad-9157bf875ba5"
      },
      "execution_count": 9,
      "outputs": [
        {
          "output_type": "stream",
          "name": "stdout",
          "text": [
            "Running... LogisticRegression GridSearch\n",
            "Time Started: Thu Apr 21 20:41:54 2022\n",
            "Time Finished: Thu Apr 21 20:46:41 2022\n",
            "\n",
            "Best cross validation score: 86.76%\n",
            "Optimal parameters: {'classifier__C': 1, 'classifier__fit_intercept': False, 'classifier__penalty': 'l1', 'classifier__solver': 'saga'}\n"
          ]
        }
      ]
    },
    {
      "cell_type": "code",
      "source": [
        "grid_search(params_lr2, name='LogisticRegression2_o', X_train=X_train_res, y_train=y_train_res)"
      ],
      "metadata": {
        "colab": {
          "base_uri": "https://localhost:8080/"
        },
        "id": "3vPLmvVJ2j8s",
        "outputId": "0861e245-e61e-4382-d457-348166ad5584"
      },
      "execution_count": 10,
      "outputs": [
        {
          "output_type": "stream",
          "name": "stdout",
          "text": [
            "Running... LogisticRegression GridSearch\n",
            "Time Started: Thu Apr 21 20:46:41 2022\n",
            "Time Finished: Thu Apr 21 20:54:09 2022\n",
            "\n",
            "Best cross validation score: 82.12%\n",
            "Optimal parameters: {'classifier__C': 10, 'classifier__fit_intercept': False, 'classifier__penalty': 'l1', 'classifier__solver': 'saga'}\n"
          ]
        }
      ]
    },
    {
      "cell_type": "code",
      "source": [
        "grid_search(params_lr2, name='LogisticRegression2_p', scoring='precision')"
      ],
      "metadata": {
        "colab": {
          "base_uri": "https://localhost:8080/"
        },
        "id": "WMH2Br-I33ZT",
        "outputId": "a34b9792-04d9-4f4a-d201-2925ed806688"
      },
      "execution_count": 11,
      "outputs": [
        {
          "output_type": "stream",
          "name": "stdout",
          "text": [
            "Running... LogisticRegression GridSearch\n",
            "Time Started: Thu Apr 21 20:54:09 2022\n",
            "Time Finished: Thu Apr 21 20:58:53 2022\n",
            "\n",
            "Best cross validation score: 74.54%\n",
            "Optimal parameters: {'classifier__C': 1, 'classifier__fit_intercept': True, 'classifier__penalty': 'l1', 'classifier__solver': 'saga'}\n"
          ]
        }
      ]
    },
    {
      "cell_type": "code",
      "source": [
        "lr_best_params = tuned_params['LogisticRegression2_p']\n",
        "%store lr_best_params"
      ],
      "metadata": {
        "colab": {
          "base_uri": "https://localhost:8080/"
        },
        "id": "ncq2BhW-6Obs",
        "outputId": "da879ffd-75ff-4b56-bb2e-84db09759903"
      },
      "execution_count": 12,
      "outputs": [
        {
          "output_type": "stream",
          "name": "stdout",
          "text": [
            "Stored 'lr_best_params' (dict)\n"
          ]
        }
      ]
    },
    {
      "cell_type": "code",
      "source": [
        "params_dt1 = {'DecisionTree': [{\n",
        "    'classifier__criterion':['gini', 'entropy'],\n",
        "    'classifier__splitter':['best', 'random'],\n",
        "    'classifier__max_depth':[None, 1, 2, 5],\n",
        "    'classifier__min_samples_split': [2, 3, 5],\n",
        "    'classifier__min_samples_leaf': [1, 2, 5],\n",
        "}]}\n",
        "\n",
        "grid_search(params_dt1, name='DecisionTree')"
      ],
      "metadata": {
        "colab": {
          "base_uri": "https://localhost:8080/"
        },
        "id": "h8kifCHK9X0s",
        "outputId": "c78ad8b8-f6d7-4b20-88d8-6e82411a4466"
      },
      "execution_count": 13,
      "outputs": [
        {
          "output_type": "stream",
          "name": "stdout",
          "text": [
            "Running... DecisionTree GridSearch\n",
            "Time Started: Thu Apr 21 20:58:53 2022\n",
            "Time Finished: Thu Apr 21 21:02:27 2022\n",
            "\n",
            "Best cross validation score: 86.00%\n",
            "Optimal parameters: {'classifier__criterion': 'entropy', 'classifier__max_depth': 5, 'classifier__min_samples_leaf': 5, 'classifier__min_samples_split': 2, 'classifier__splitter': 'best'}\n"
          ]
        }
      ]
    },
    {
      "cell_type": "code",
      "source": [
        "grid_search(params_dt1, name='DecisionTree_o', X_train=X_train_res, y_train=y_train_res)"
      ],
      "metadata": {
        "colab": {
          "base_uri": "https://localhost:8080/"
        },
        "id": "Jo8i1ExO9Z6z",
        "outputId": "45800b19-a9e8-4708-d490-0e8adcbe2cd7"
      },
      "execution_count": 14,
      "outputs": [
        {
          "output_type": "stream",
          "name": "stdout",
          "text": [
            "Running... DecisionTree GridSearch\n",
            "Time Started: Thu Apr 21 21:02:27 2022\n",
            "Time Finished: Thu Apr 21 21:08:04 2022\n",
            "\n",
            "Best cross validation score: 92.51%\n",
            "Optimal parameters: {'classifier__criterion': 'entropy', 'classifier__max_depth': None, 'classifier__min_samples_leaf': 1, 'classifier__min_samples_split': 2, 'classifier__splitter': 'best'}\n"
          ]
        }
      ]
    },
    {
      "cell_type": "code",
      "source": [
        "params_dt2 = {'DecisionTree': [{\n",
        "    'classifier__criterion':['gini', 'entropy'],\n",
        "    'classifier__splitter':['best', 'random'],\n",
        "    'classifier__max_depth':[5, 10, 15],\n",
        "    'classifier__min_samples_split': [1, 2, 10],\n",
        "    'classifier__min_samples_leaf': [1, 3, 5],\n",
        "}]}\n",
        "\n",
        "grid_search(params_dt2, name='DecisionTree2')"
      ],
      "metadata": {
        "colab": {
          "base_uri": "https://localhost:8080/"
        },
        "id": "-bnZ3kn0DQlV",
        "outputId": "471fa602-8064-4d65-d1d1-07cffcf826a3"
      },
      "execution_count": 15,
      "outputs": [
        {
          "output_type": "stream",
          "name": "stdout",
          "text": [
            "Running... DecisionTree GridSearch\n",
            "Time Started: Thu Apr 21 21:08:04 2022\n",
            "Time Finished: Thu Apr 21 21:10:39 2022\n",
            "\n",
            "Best cross validation score: 86.00%\n",
            "Optimal parameters: {'classifier__criterion': 'entropy', 'classifier__max_depth': 5, 'classifier__min_samples_leaf': 5, 'classifier__min_samples_split': 2, 'classifier__splitter': 'best'}\n"
          ]
        }
      ]
    },
    {
      "cell_type": "code",
      "source": [
        "grid_search(params_dt2, name='DecisionTree2_o', X_train=X_train_res, y_train=y_train_res)"
      ],
      "metadata": {
        "colab": {
          "base_uri": "https://localhost:8080/"
        },
        "id": "iIqmADK9DeOQ",
        "outputId": "cd655188-997b-4497-cf21-71c36496d436"
      },
      "execution_count": 16,
      "outputs": [
        {
          "output_type": "stream",
          "name": "stdout",
          "text": [
            "Running... DecisionTree GridSearch\n",
            "Time Started: Thu Apr 21 21:10:39 2022\n",
            "Time Finished: Thu Apr 21 21:14:46 2022\n",
            "\n",
            "Best cross validation score: 89.05%\n",
            "Optimal parameters: {'classifier__criterion': 'gini', 'classifier__max_depth': 15, 'classifier__min_samples_leaf': 1, 'classifier__min_samples_split': 2, 'classifier__splitter': 'best'}\n"
          ]
        }
      ]
    },
    {
      "cell_type": "code",
      "source": [
        "grid_search(params_dt1, name='DecisionTree_op', X_train=X_train_res, y_train=y_train_res, scoring='precision')"
      ],
      "metadata": {
        "colab": {
          "base_uri": "https://localhost:8080/"
        },
        "id": "yYumSNVAQ8yM",
        "outputId": "f0edf809-df02-427a-fdd4-a634e80bc8af"
      },
      "execution_count": 17,
      "outputs": [
        {
          "output_type": "stream",
          "name": "stdout",
          "text": [
            "Running... DecisionTree GridSearch\n",
            "Time Started: Thu Apr 21 21:14:46 2022\n",
            "Time Finished: Thu Apr 21 21:20:27 2022\n",
            "\n",
            "Best cross validation score: 87.59%\n",
            "Optimal parameters: {'classifier__criterion': 'entropy', 'classifier__max_depth': None, 'classifier__min_samples_leaf': 1, 'classifier__min_samples_split': 2, 'classifier__splitter': 'best'}\n"
          ]
        }
      ]
    },
    {
      "cell_type": "code",
      "source": [
        "dt_best_params = tuned_params['DecisionTree_o']\n",
        "%store dt_best_params"
      ],
      "metadata": {
        "colab": {
          "base_uri": "https://localhost:8080/"
        },
        "id": "6qHNQ2rYUjwI",
        "outputId": "1e6da94f-909e-4a65-a14e-4749f11041d8"
      },
      "execution_count": 18,
      "outputs": [
        {
          "output_type": "stream",
          "name": "stdout",
          "text": [
            "Stored 'dt_best_params' (dict)\n"
          ]
        }
      ]
    },
    {
      "cell_type": "code",
      "source": [
        "params_rf1 = {'RandomForest': [{\n",
        "    'classifier__n_estimators':[10, 30, 100],\n",
        "    'classifier__criterion':['gini', 'entropy'],\n",
        "    'classifier__max_depth':[None, 1, 2, 5],\n",
        "    'classifier__min_samples_split':[2, 3, 5],\n",
        "    'classifier__min_samples_leaf':[1, 2, 5]\n",
        "}]}\n",
        "\n",
        "grid_search(params_rf1, name='RandomForest')"
      ],
      "metadata": {
        "colab": {
          "base_uri": "https://localhost:8080/"
        },
        "id": "SXIMeiIYXq-n",
        "outputId": "3c49dc52-74fd-4c36-f844-38bb375efe45"
      },
      "execution_count": 19,
      "outputs": [
        {
          "output_type": "stream",
          "name": "stdout",
          "text": [
            "Running... RandomForest GridSearch\n",
            "Time Started: Thu Apr 21 21:20:27 2022\n",
            "Time Finished: Thu Apr 21 21:33:07 2022\n",
            "\n",
            "Best cross validation score: 86.47%\n",
            "Optimal parameters: {'classifier__criterion': 'gini', 'classifier__max_depth': None, 'classifier__min_samples_leaf': 1, 'classifier__min_samples_split': 2, 'classifier__n_estimators': 100}\n"
          ]
        }
      ]
    },
    {
      "cell_type": "code",
      "source": [
        "grid_search(params_rf1, name='RandomForest_o', X_train=X_train_res, y_train=y_train_res)"
      ],
      "metadata": {
        "colab": {
          "base_uri": "https://localhost:8080/"
        },
        "id": "ryVYeljcXsSN",
        "outputId": "80e7264a-3d0a-43ce-b708-4472fdf8412e"
      },
      "execution_count": 20,
      "outputs": [
        {
          "output_type": "stream",
          "name": "stdout",
          "text": [
            "Running... RandomForest GridSearch\n",
            "Time Started: Thu Apr 21 21:33:07 2022\n",
            "Time Finished: Thu Apr 21 21:52:51 2022\n",
            "\n",
            "Best cross validation score: 95.88%\n",
            "Optimal parameters: {'classifier__criterion': 'gini', 'classifier__max_depth': None, 'classifier__min_samples_leaf': 1, 'classifier__min_samples_split': 2, 'classifier__n_estimators': 30}\n"
          ]
        }
      ]
    },
    {
      "cell_type": "code",
      "source": [
        "params_rf2 = {'RandomForest': [{\n",
        "    'classifier__n_estimators':[30, 100, 150],\n",
        "    'classifier__criterion':['gini', 'entropy'],\n",
        "    'classifier__max_depth':[None, 5, 10],\n",
        "    'classifier__min_samples_split':[1, 2],\n",
        "    'classifier__min_samples_leaf':[1, 10]\n",
        "}]}\n",
        "\n",
        "grid_search(params_rf2, name='RandomForest2')"
      ],
      "metadata": {
        "colab": {
          "base_uri": "https://localhost:8080/"
        },
        "id": "9dZC6BT0bs5C",
        "outputId": "921faa19-94d0-4971-aa7f-c623e8087e0a"
      },
      "execution_count": 21,
      "outputs": [
        {
          "output_type": "stream",
          "name": "stdout",
          "text": [
            "Running... RandomForest GridSearch\n",
            "Time Started: Thu Apr 21 21:52:51 2022\n",
            "Time Finished: Thu Apr 21 21:58:10 2022\n",
            "\n",
            "Best cross validation score: 86.47%\n",
            "Optimal parameters: {'classifier__criterion': 'gini', 'classifier__max_depth': None, 'classifier__min_samples_leaf': 1, 'classifier__min_samples_split': 2, 'classifier__n_estimators': 100}\n"
          ]
        }
      ]
    },
    {
      "cell_type": "code",
      "source": [
        "grid_search(params_rf1, name='RandomForest_op', X_train=X_train_res, y_train=y_train_res, scoring='precision')"
      ],
      "metadata": {
        "colab": {
          "base_uri": "https://localhost:8080/"
        },
        "id": "4cGrYQOVli_X",
        "outputId": "ef002ddd-73ce-4ad1-ea04-111a2851acf4"
      },
      "execution_count": 22,
      "outputs": [
        {
          "output_type": "stream",
          "name": "stdout",
          "text": [
            "Running... RandomForest GridSearch\n",
            "Time Started: Thu Apr 21 21:58:10 2022\n",
            "Time Finished: Thu Apr 21 22:17:57 2022\n",
            "\n",
            "Best cross validation score: 93.11%\n",
            "Optimal parameters: {'classifier__criterion': 'gini', 'classifier__max_depth': None, 'classifier__min_samples_leaf': 1, 'classifier__min_samples_split': 2, 'classifier__n_estimators': 30}\n"
          ]
        }
      ]
    },
    {
      "cell_type": "code",
      "source": [
        "rf_best_params = tuned_params['RandomForest_op']\n",
        "%store rf_best_params"
      ],
      "metadata": {
        "colab": {
          "base_uri": "https://localhost:8080/"
        },
        "id": "vUeISjjbrX5F",
        "outputId": "1e91b70a-e5e5-4dcc-828b-b177b001e52d"
      },
      "execution_count": 23,
      "outputs": [
        {
          "output_type": "stream",
          "name": "stdout",
          "text": [
            "Stored 'rf_best_params' (dict)\n"
          ]
        }
      ]
    },
    {
      "cell_type": "code",
      "source": [
        "params_et1 = {'ExtraTrees': [{\n",
        "    'classifier__n_estimators':[10, 30, 100],\n",
        "    'classifier__criterion':['gini', 'entropy'],\n",
        "    'classifier__max_depth':[None, 1, 2, 5],\n",
        "    'classifier__min_samples_split':[2, 3, 5],\n",
        "    'classifier__min_samples_leaf':[1, 2, 5]\n",
        "}]}\n",
        "\n",
        "grid_search(params_et1, name='ExtraTrees')"
      ],
      "metadata": {
        "colab": {
          "base_uri": "https://localhost:8080/"
        },
        "id": "DNjMOgQht-OS",
        "outputId": "5b30f29c-af16-4e4e-a4d5-af07aa700108"
      },
      "execution_count": 24,
      "outputs": [
        {
          "output_type": "stream",
          "name": "stdout",
          "text": [
            "Running... ExtraTrees GridSearch\n",
            "Time Started: Thu Apr 21 22:17:57 2022\n",
            "Time Finished: Thu Apr 21 22:33:09 2022\n",
            "\n",
            "Best cross validation score: 86.57%\n",
            "Optimal parameters: {'classifier__criterion': 'entropy', 'classifier__max_depth': None, 'classifier__min_samples_leaf': 1, 'classifier__min_samples_split': 5, 'classifier__n_estimators': 100}\n"
          ]
        }
      ]
    },
    {
      "cell_type": "code",
      "source": [
        "grid_search(params_et1, name='ExtraTrees_o', X_train=X_train_res, y_train=y_train_res)"
      ],
      "metadata": {
        "colab": {
          "base_uri": "https://localhost:8080/"
        },
        "id": "NxTCEvr4t_tI",
        "outputId": "8c283c45-5db8-4864-937d-35fd235d4c6f"
      },
      "execution_count": 25,
      "outputs": [
        {
          "output_type": "stream",
          "name": "stdout",
          "text": [
            "Running... ExtraTrees GridSearch\n",
            "Time Started: Thu Apr 21 22:33:09 2022\n",
            "Time Finished: Thu Apr 21 22:58:11 2022\n",
            "\n",
            "Best cross validation score: 97.06%\n",
            "Optimal parameters: {'classifier__criterion': 'gini', 'classifier__max_depth': None, 'classifier__min_samples_leaf': 1, 'classifier__min_samples_split': 2, 'classifier__n_estimators': 30}\n"
          ]
        }
      ]
    },
    {
      "cell_type": "code",
      "source": [
        "params_et2 = {'ExtraTrees': [{\n",
        "    'classifier__n_estimators':[30, 50, 100],\n",
        "    'classifier__criterion':['gini', 'entropy'],\n",
        "    'classifier__max_depth':[None, 3, 10],\n",
        "    'classifier__min_samples_split':[2, 5, 10],\n",
        "    'classifier__min_samples_leaf':[1, 3, 10]\n",
        "}]}\n",
        "\n",
        "grid_search(params_et2, name='ExtraTrees')"
      ],
      "metadata": {
        "id": "yvRZT-bxyRlI",
        "colab": {
          "base_uri": "https://localhost:8080/"
        },
        "outputId": "d764f4cd-40a6-4b7c-f4d6-200807445c73"
      },
      "execution_count": 26,
      "outputs": [
        {
          "output_type": "stream",
          "name": "stdout",
          "text": [
            "Running... ExtraTrees GridSearch\n",
            "Time Started: Thu Apr 21 23:29:44 2022\n",
            "Time Finished: Thu Apr 21 23:47:31 2022\n",
            "\n",
            "Best cross validation score: 86.60%\n",
            "Optimal parameters: {'classifier__criterion': 'entropy', 'classifier__max_depth': None, 'classifier__min_samples_leaf': 1, 'classifier__min_samples_split': 10, 'classifier__n_estimators': 100}\n"
          ]
        }
      ]
    },
    {
      "cell_type": "code",
      "source": [
        "grid_search(params_et2, name='ExtraTrees2_o', X_train=X_train_res, y_train=y_train_res)"
      ],
      "metadata": {
        "colab": {
          "base_uri": "https://localhost:8080/"
        },
        "id": "Ed9iq3TldcwZ",
        "outputId": "87106f8f-119b-47d7-e2d4-21abd2737961"
      },
      "execution_count": 27,
      "outputs": [
        {
          "output_type": "stream",
          "name": "stdout",
          "text": [
            "Running... ExtraTrees GridSearch\n",
            "Time Started: Thu Apr 21 23:55:48 2022\n",
            "Time Finished: Fri Apr 22 00:26:40 2022\n",
            "\n",
            "Best cross validation score: 97.06%\n",
            "Optimal parameters: {'classifier__criterion': 'gini', 'classifier__max_depth': None, 'classifier__min_samples_leaf': 1, 'classifier__min_samples_split': 2, 'classifier__n_estimators': 30}\n"
          ]
        }
      ]
    },
    {
      "cell_type": "code",
      "source": [
        "grid_search(params_et2, name='ExtraTrees2_op', X_train=X_train_res, y_train=y_train_res, scoring='precision')"
      ],
      "metadata": {
        "colab": {
          "base_uri": "https://localhost:8080/"
        },
        "id": "sccckc7Jjal-",
        "outputId": "319901a2-bc86-4fb9-c9a6-6332d59f6435"
      },
      "execution_count": 28,
      "outputs": [
        {
          "output_type": "stream",
          "name": "stdout",
          "text": [
            "Running... ExtraTrees GridSearch\n",
            "Time Started: Fri Apr 22 00:33:41 2022\n",
            "Time Finished: Fri Apr 22 01:04:26 2022\n",
            "\n",
            "Best cross validation score: 95.32%\n",
            "Optimal parameters: {'classifier__criterion': 'gini', 'classifier__max_depth': None, 'classifier__min_samples_leaf': 1, 'classifier__min_samples_split': 2, 'classifier__n_estimators': 30}\n"
          ]
        }
      ]
    },
    {
      "cell_type": "code",
      "source": [
        "et_best_params = tuned_params['ExtraTrees2_op']\n",
        "%store et_best_params"
      ],
      "metadata": {
        "colab": {
          "base_uri": "https://localhost:8080/"
        },
        "id": "vp_dYWHDsFZI",
        "outputId": "4ff0a690-8ad5-4a21-8732-fd1e6e829560"
      },
      "execution_count": 29,
      "outputs": [
        {
          "output_type": "stream",
          "name": "stdout",
          "text": [
            "Stored 'et_best_params' (dict)\n"
          ]
        }
      ]
    },
    {
      "cell_type": "code",
      "source": [
        "params_gb1 = {'GradientBoost': [{\n",
        "    'classifier__loss': ['deviance', 'exponential'],\n",
        "    'classifier__n_estimators':[10, 30, 100],\n",
        "    'classifier__criterion':['friedman_mse', 'squared_error'],\n",
        "    'classifier__max_depth':[None, 1, 2, 5],\n",
        "    'classifier__min_samples_split':[2, 3, 5],\n",
        "    'classifier__min_samples_leaf':[1, 2, 5]\n",
        "}]}\n",
        "\n",
        "grid_search(params_gb1, name='GradientBoost')"
      ],
      "metadata": {
        "colab": {
          "base_uri": "https://localhost:8080/"
        },
        "id": "UL31r2qi0Hse",
        "outputId": "4e029d7b-6749-4197-9107-941efb2e67f7"
      },
      "execution_count": 30,
      "outputs": [
        {
          "output_type": "stream",
          "name": "stdout",
          "text": [
            "Running... GradientBoost GridSearch\n",
            "Time Started: Fri Apr 22 01:08:54 2022\n",
            "Time Finished: Fri Apr 22 05:09:51 2022\n",
            "\n",
            "Best cross validation score: 87.19%\n",
            "Optimal parameters: {'classifier__criterion': 'squared_error', 'classifier__loss': 'exponential', 'classifier__max_depth': 5, 'classifier__min_samples_leaf': 1, 'classifier__min_samples_split': 5, 'classifier__n_estimators': 100}\n"
          ]
        }
      ]
    },
    {
      "cell_type": "code",
      "source": [
        "grid_search(params_gb1, name='GradientBoost_o', X_train=X_train_res, y_train=y_train_res)"
      ],
      "metadata": {
        "colab": {
          "base_uri": "https://localhost:8080/"
        },
        "id": "lD2yNBeV0JSK",
        "outputId": "ea80be97-968a-471a-f51f-f0fae24a4c71"
      },
      "execution_count": 31,
      "outputs": [
        {
          "output_type": "stream",
          "name": "stdout",
          "text": [
            "Running... GradientBoost GridSearch\n",
            "Time Started: Fri Apr 22 05:19:32 2022\n",
            "Time Finished: Fri Apr 22 11:31:03 2022\n",
            "\n",
            "Best cross validation score: 95.59%\n",
            "Optimal parameters: {'classifier__criterion': 'friedman_mse', 'classifier__loss': 'exponential', 'classifier__max_depth': None, 'classifier__min_samples_leaf': 5, 'classifier__min_samples_split': 2, 'classifier__n_estimators': 100}\n"
          ]
        }
      ]
    },
    {
      "cell_type": "code",
      "source": [
        ""
      ],
      "metadata": {
        "id": "Bjd0s36HtgsE"
      },
      "execution_count": null,
      "outputs": []
    }
  ]
}