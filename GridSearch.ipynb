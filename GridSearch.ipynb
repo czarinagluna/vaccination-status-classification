{
 "cells": [
  {
   "cell_type": "markdown",
   "metadata": {
    "colab_type": "text",
    "id": "view-in-github"
   },
   "source": [
    "<a href=\"https://colab.research.google.com/github/czarinagluna/vaccination-status-classification/blob/main/GridSearch.ipynb\" target=\"_parent\"><img src=\"https://colab.research.google.com/assets/colab-badge.svg\" alt=\"Open In Colab\"/></a>"
   ]
  },
  {
   "cell_type": "markdown",
   "metadata": {
    "id": "bZ25BM7a2q6H"
   },
   "source": [
    "# Search for Optimal Parameters of Classification Models\n",
    "Hyperparameter Tuning of *IV. Classification Models* in [Main Notebook](https://github.com/czarinagluna/vaccination-status-classification/blob/main/main.ipynb)\n",
    "***\n",
    "Authors: [Czarina Luna](https://www.linkedin.com/in/czarinaluna/), Weston Shuken, Justin Sohn"
   ]
  },
  {
   "cell_type": "code",
   "execution_count": 1,
   "metadata": {
    "id": "YziAaulqyCQU"
   },
   "outputs": [],
   "source": [
    "import pandas as pd\n",
    "labels = pd.read_csv('data/training_set_labels.csv')\n",
    "features = pd.read_csv('data/training_set_features.csv')\n",
    "data = pd.merge(features, labels, on='respondent_id').drop(columns='respondent_id')"
   ]
  },
  {
   "cell_type": "code",
   "execution_count": 2,
   "metadata": {
    "id": "iLtqWbAOzss6"
   },
   "outputs": [],
   "source": [
    "from sklearn.model_selection import train_test_split\n",
    "\n",
    "X = data.drop(columns=['h1n1_vaccine'])\n",
    "y = data['h1n1_vaccine']\n",
    "\n",
    "X_train, X_test, y_train, y_test = train_test_split(X, y, random_state=112221, stratify=y)"
   ]
  },
  {
   "cell_type": "code",
   "execution_count": 3,
   "metadata": {
    "id": "VyyzGC6dzzlk"
   },
   "outputs": [],
   "source": [
    "from imblearn.over_sampling import RandomOverSampler\n",
    "\n",
    "oversample = RandomOverSampler(sampling_strategy='minority', random_state=112221)\n",
    "X_train_res, y_train_res = oversample.fit_resample(X_train, y_train)"
   ]
  },
  {
   "cell_type": "code",
   "execution_count": 4,
   "metadata": {
    "id": "4NwF4FpXyNxI"
   },
   "outputs": [],
   "source": [
    "from sklearn.pipeline import Pipeline\n",
    "from sklearn.impute import SimpleImputer\n",
    "from sklearn.preprocessing import StandardScaler, OneHotEncoder\n",
    "from sklearn.compose import ColumnTransformer\n",
    "\n",
    "numeric_transformer = Pipeline(\n",
    "    steps=[('num_imputer', SimpleImputer(strategy='median', add_indicator=True)), \n",
    "           ('scaler', StandardScaler())])\n",
    "\n",
    "categorical_transformer = Pipeline(\n",
    "    steps=[('cat_imputer', SimpleImputer(strategy='most_frequent')),\n",
    "           ('ohe', OneHotEncoder(sparse=False, handle_unknown='ignore'))])\n",
    "\n",
    "num_features = list(range(0, 21)) + [31, 32]\n",
    "cat_features = list(range(21, 31)) + [33, 34, 35]\n",
    "\n",
    "preprocessor = ColumnTransformer(\n",
    "    transformers=[('num', numeric_transformer, num_features),\n",
    "                  ('cat', categorical_transformer, cat_features)], remainder='passthrough')"
   ]
  },
  {
   "cell_type": "code",
   "execution_count": 5,
   "metadata": {
    "id": "tqQw1yg7yOM_"
   },
   "outputs": [],
   "source": [
    "from sklearn.linear_model import LogisticRegression\n",
    "from sklearn.tree import DecisionTreeClassifier\n",
    "from sklearn.ensemble import RandomForestClassifier, ExtraTreesClassifier, GradientBoostingClassifier\n",
    "\n",
    "default_models = {'LogisticRegression': {'classifier': LogisticRegression(random_state=112221)},\n",
    "                  'DecisionTree': {'classifier': DecisionTreeClassifier(random_state=112221)},\n",
    "                  'RandomForest': {'classifier': RandomForestClassifier(random_state=112221)},\n",
    "                  'ExtraTrees': {'classifier': ExtraTreesClassifier(random_state=112221)},\n",
    "                  'GradientBoost': {'classifier': GradientBoostingClassifier(random_state=112221)}}"
   ]
  },
  {
   "cell_type": "code",
   "execution_count": 6,
   "metadata": {
    "id": "SJN36PNpySXu"
   },
   "outputs": [],
   "source": [
    "import time\n",
    "\n",
    "from sklearn.model_selection import train_test_split, GridSearchCV\n",
    "from sklearn.pipeline import Pipeline\n",
    "\n",
    "tuned_params = {}\n",
    "\n",
    "def grid_search(params, name, scoring='accuracy', X_train=X_train, y_train=y_train):\n",
    "    '''\n",
    "    Performs grid search on classification models, returns best cross validation scores and parameters\n",
    "    '''\n",
    "    for model, grid in params.items():\n",
    "        print(f'Running... {model} GridSearch')\n",
    "        print(f'Time Started: {time.asctime()}')\n",
    "        \n",
    "        pipe = Pipeline(steps=[('col_transformer', preprocessor), \n",
    "                               ('classifier', default_models[model]['classifier'])])\n",
    "        \n",
    "        gridsearch = GridSearchCV(estimator=pipe, param_grid=grid, scoring=scoring, cv=5)\n",
    "        gridsearch.fit(X_train, y_train)\n",
    "        \n",
    "        print(f'Time Finished: {time.asctime()}\\n')\n",
    "        print(f'Best cross validation score: {gridsearch.best_score_ :.2%}')\n",
    "        print(f'Optimal parameters: {gridsearch.best_params_}')\n",
    "        \n",
    "        tuned_params[name] = gridsearch.best_params_\n",
    "        \n",
    "import warnings\n",
    "warnings.filterwarnings('ignore')"
   ]
  },
  {
   "cell_type": "code",
   "execution_count": 7,
   "metadata": {
    "colab": {
     "base_uri": "https://localhost:8080/"
    },
    "id": "gXBRn-1yz5d2",
    "outputId": "b529f9fa-2ebe-4df7-d9a4-323509430b64"
   },
   "outputs": [
    {
     "name": "stdout",
     "output_type": "stream",
     "text": [
      "Running... LogisticRegression GridSearch\n",
      "Time Started: Fri Apr 22 11:06:55 2022\n",
      "Time Finished: Fri Apr 22 11:14:11 2022\n",
      "\n",
      "Best cross validation score: 86.76%\n",
      "Optimal parameters: {'classifier__C': 1, 'classifier__fit_intercept': False, 'classifier__penalty': 'l1', 'classifier__solver': 'saga'}\n"
     ]
    }
   ],
   "source": [
    "params_lr1 = {'LogisticRegression': [{\n",
    "    'classifier__penalty':['l1', 'l2', 'elasticnet'],\n",
    "    'classifier__C':[0.01, 0.1, 1],\n",
    "    'classifier__fit_intercept':[True, False],\n",
    "    'classifier__solver':['lbfgs', 'saga']\n",
    "}]}\n",
    "\n",
    "grid_search(params_lr1, name='LogisticRegression')"
   ]
  },
  {
   "cell_type": "code",
   "execution_count": 8,
   "metadata": {
    "colab": {
     "base_uri": "https://localhost:8080/"
    },
    "id": "quq5xTOKz8oG",
    "outputId": "83dc1d12-6b43-4ab3-841b-1f6c5b1d8aa2"
   },
   "outputs": [
    {
     "name": "stdout",
     "output_type": "stream",
     "text": [
      "Running... LogisticRegression GridSearch\n",
      "Time Started: Fri Apr 22 11:14:11 2022\n",
      "Time Finished: Fri Apr 22 11:26:58 2022\n",
      "\n",
      "Best cross validation score: 82.12%\n",
      "Optimal parameters: {'classifier__C': 1, 'classifier__fit_intercept': True, 'classifier__penalty': 'l2', 'classifier__solver': 'saga'}\n"
     ]
    }
   ],
   "source": [
    "grid_search(params_lr1, name='LogisticRegression_o', X_train=X_train_res, y_train=y_train_res)"
   ]
  },
  {
   "cell_type": "code",
   "execution_count": 9,
   "metadata": {
    "colab": {
     "base_uri": "https://localhost:8080/"
    },
    "id": "PaAokfYh2pxy",
    "outputId": "3b5aa84a-7d39-4ea1-94ad-9157bf875ba5"
   },
   "outputs": [
    {
     "name": "stdout",
     "output_type": "stream",
     "text": [
      "Running... LogisticRegression GridSearch\n",
      "Time Started: Fri Apr 22 11:26:58 2022\n",
      "Time Finished: Fri Apr 22 11:33:49 2022\n",
      "\n",
      "Best cross validation score: 86.76%\n",
      "Optimal parameters: {'classifier__C': 1, 'classifier__fit_intercept': False, 'classifier__penalty': 'l1', 'classifier__solver': 'saga'}\n"
     ]
    }
   ],
   "source": [
    "params_lr2 = {'LogisticRegression': [{\n",
    "    'classifier__penalty':['l1', 'l2', 'elasticnet'],\n",
    "    'classifier__C':[1, 10, 100],\n",
    "    'classifier__fit_intercept':[True, False],\n",
    "    'classifier__solver':['lbfgs', 'saga']\n",
    "}]}\n",
    "\n",
    "grid_search(params_lr2, name='LogisticRegression2')"
   ]
  },
  {
   "cell_type": "code",
   "execution_count": 10,
   "metadata": {
    "colab": {
     "base_uri": "https://localhost:8080/"
    },
    "id": "3vPLmvVJ2j8s",
    "outputId": "0861e245-e61e-4382-d457-348166ad5584"
   },
   "outputs": [
    {
     "name": "stdout",
     "output_type": "stream",
     "text": [
      "Running... LogisticRegression GridSearch\n",
      "Time Started: Fri Apr 22 11:33:49 2022\n",
      "Time Finished: Fri Apr 22 11:47:15 2022\n",
      "\n",
      "Best cross validation score: 82.12%\n",
      "Optimal parameters: {'classifier__C': 10, 'classifier__fit_intercept': False, 'classifier__penalty': 'l1', 'classifier__solver': 'saga'}\n"
     ]
    }
   ],
   "source": [
    "grid_search(params_lr2, name='LogisticRegression2_o', X_train=X_train_res, y_train=y_train_res)"
   ]
  },
  {
   "cell_type": "code",
   "execution_count": 11,
   "metadata": {
    "colab": {
     "base_uri": "https://localhost:8080/"
    },
    "id": "WMH2Br-I33ZT",
    "outputId": "a34b9792-04d9-4f4a-d201-2925ed806688"
   },
   "outputs": [
    {
     "name": "stdout",
     "output_type": "stream",
     "text": [
      "Running... LogisticRegression GridSearch\n",
      "Time Started: Fri Apr 22 11:47:15 2022\n",
      "Time Finished: Fri Apr 22 11:54:05 2022\n",
      "\n",
      "Best cross validation score: 74.54%\n",
      "Optimal parameters: {'classifier__C': 1, 'classifier__fit_intercept': True, 'classifier__penalty': 'l1', 'classifier__solver': 'saga'}\n"
     ]
    }
   ],
   "source": [
    "grid_search(params_lr2, name='LogisticRegression2_p', scoring='precision')"
   ]
  },
  {
   "cell_type": "code",
   "execution_count": 12,
   "metadata": {
    "colab": {
     "base_uri": "https://localhost:8080/"
    },
    "id": "ncq2BhW-6Obs",
    "outputId": "da879ffd-75ff-4b56-bb2e-84db09759903"
   },
   "outputs": [
    {
     "name": "stdout",
     "output_type": "stream",
     "text": [
      "Stored 'lr_best_params' (dict)\n"
     ]
    }
   ],
   "source": [
    "lr_best_params = tuned_params['LogisticRegression2_p']\n",
    "%store lr_best_params"
   ]
  },
  {
   "cell_type": "code",
   "execution_count": 13,
   "metadata": {
    "colab": {
     "base_uri": "https://localhost:8080/"
    },
    "id": "h8kifCHK9X0s",
    "outputId": "c78ad8b8-f6d7-4b20-88d8-6e82411a4466"
   },
   "outputs": [
    {
     "name": "stdout",
     "output_type": "stream",
     "text": [
      "Running... DecisionTree GridSearch\n",
      "Time Started: Fri Apr 22 11:54:05 2022\n",
      "Time Finished: Fri Apr 22 12:09:53 2022\n",
      "\n",
      "Best cross validation score: 86.00%\n",
      "Optimal parameters: {'classifier__criterion': 'entropy', 'classifier__max_depth': 5, 'classifier__min_samples_leaf': 5, 'classifier__min_samples_split': 2, 'classifier__splitter': 'best'}\n"
     ]
    }
   ],
   "source": [
    "params_dt1 = {'DecisionTree': [{\n",
    "    'classifier__criterion':['gini', 'entropy'],\n",
    "    'classifier__splitter':['best', 'random'],\n",
    "    'classifier__max_depth':[None, 1, 2, 5],\n",
    "    'classifier__min_samples_split': [2, 3, 5],\n",
    "    'classifier__min_samples_leaf': [1, 2, 5],\n",
    "}]}\n",
    "\n",
    "grid_search(params_dt1, name='DecisionTree')"
   ]
  },
  {
   "cell_type": "code",
   "execution_count": 14,
   "metadata": {
    "colab": {
     "base_uri": "https://localhost:8080/"
    },
    "id": "Jo8i1ExO9Z6z",
    "outputId": "45800b19-a9e8-4708-d490-0e8adcbe2cd7"
   },
   "outputs": [
    {
     "name": "stdout",
     "output_type": "stream",
     "text": [
      "Running... DecisionTree GridSearch\n",
      "Time Started: Fri Apr 22 12:09:53 2022\n",
      "Time Finished: Fri Apr 22 12:45:59 2022\n",
      "\n",
      "Best cross validation score: 92.51%\n",
      "Optimal parameters: {'classifier__criterion': 'entropy', 'classifier__max_depth': None, 'classifier__min_samples_leaf': 1, 'classifier__min_samples_split': 2, 'classifier__splitter': 'best'}\n"
     ]
    }
   ],
   "source": [
    "grid_search(params_dt1, name='DecisionTree_o', X_train=X_train_res, y_train=y_train_res)"
   ]
  },
  {
   "cell_type": "code",
   "execution_count": 15,
   "metadata": {
    "colab": {
     "base_uri": "https://localhost:8080/"
    },
    "id": "-bnZ3kn0DQlV",
    "outputId": "471fa602-8064-4d65-d1d1-07cffcf826a3"
   },
   "outputs": [
    {
     "name": "stdout",
     "output_type": "stream",
     "text": [
      "Running... DecisionTree GridSearch\n",
      "Time Started: Fri Apr 22 12:45:59 2022\n",
      "Time Finished: Fri Apr 22 12:57:20 2022\n",
      "\n",
      "Best cross validation score: 86.00%\n",
      "Optimal parameters: {'classifier__criterion': 'entropy', 'classifier__max_depth': 5, 'classifier__min_samples_leaf': 5, 'classifier__min_samples_split': 2, 'classifier__splitter': 'best'}\n"
     ]
    }
   ],
   "source": [
    "params_dt2 = {'DecisionTree': [{\n",
    "    'classifier__criterion':['gini', 'entropy'],\n",
    "    'classifier__splitter':['best', 'random'],\n",
    "    'classifier__max_depth':[5, 10, 15],\n",
    "    'classifier__min_samples_split': [1, 2, 10],\n",
    "    'classifier__min_samples_leaf': [1, 3, 5],\n",
    "}]}\n",
    "\n",
    "grid_search(params_dt2, name='DecisionTree2')"
   ]
  },
  {
   "cell_type": "code",
   "execution_count": 16,
   "metadata": {
    "colab": {
     "base_uri": "https://localhost:8080/"
    },
    "id": "iIqmADK9DeOQ",
    "outputId": "cd655188-997b-4497-cf21-71c36496d436"
   },
   "outputs": [
    {
     "name": "stdout",
     "output_type": "stream",
     "text": [
      "Running... DecisionTree GridSearch\n",
      "Time Started: Fri Apr 22 12:57:20 2022\n",
      "Time Finished: Fri Apr 22 13:22:56 2022\n",
      "\n",
      "Best cross validation score: 89.05%\n",
      "Optimal parameters: {'classifier__criterion': 'gini', 'classifier__max_depth': 15, 'classifier__min_samples_leaf': 1, 'classifier__min_samples_split': 2, 'classifier__splitter': 'best'}\n"
     ]
    }
   ],
   "source": [
    "grid_search(params_dt2, name='DecisionTree2_o', X_train=X_train_res, y_train=y_train_res)"
   ]
  },
  {
   "cell_type": "code",
   "execution_count": 17,
   "metadata": {
    "colab": {
     "base_uri": "https://localhost:8080/"
    },
    "id": "yYumSNVAQ8yM",
    "outputId": "f0edf809-df02-427a-fdd4-a634e80bc8af"
   },
   "outputs": [
    {
     "name": "stdout",
     "output_type": "stream",
     "text": [
      "Running... DecisionTree GridSearch\n",
      "Time Started: Fri Apr 22 13:22:56 2022\n",
      "Time Finished: Fri Apr 22 14:00:00 2022\n",
      "\n",
      "Best cross validation score: 87.59%\n",
      "Optimal parameters: {'classifier__criterion': 'entropy', 'classifier__max_depth': None, 'classifier__min_samples_leaf': 1, 'classifier__min_samples_split': 2, 'classifier__splitter': 'best'}\n"
     ]
    }
   ],
   "source": [
    "grid_search(params_dt1, name='DecisionTree_op', X_train=X_train_res, y_train=y_train_res, scoring='precision')"
   ]
  },
  {
   "cell_type": "code",
   "execution_count": 18,
   "metadata": {
    "colab": {
     "base_uri": "https://localhost:8080/"
    },
    "id": "6qHNQ2rYUjwI",
    "outputId": "1e6da94f-909e-4a65-a14e-4749f11041d8"
   },
   "outputs": [
    {
     "name": "stdout",
     "output_type": "stream",
     "text": [
      "Stored 'dt_best_params' (dict)\n"
     ]
    }
   ],
   "source": [
    "dt_best_params = tuned_params['DecisionTree_o']\n",
    "%store dt_best_params"
   ]
  },
  {
   "cell_type": "code",
   "execution_count": 19,
   "metadata": {
    "colab": {
     "base_uri": "https://localhost:8080/"
    },
    "id": "SXIMeiIYXq-n",
    "outputId": "3c49dc52-74fd-4c36-f844-38bb375efe45"
   },
   "outputs": [
    {
     "name": "stdout",
     "output_type": "stream",
     "text": [
      "Running... RandomForest GridSearch\n",
      "Time Started: Fri Apr 22 14:00:00 2022\n",
      "Time Finished: Fri Apr 22 14:33:43 2022\n",
      "\n",
      "Best cross validation score: 86.47%\n",
      "Optimal parameters: {'classifier__criterion': 'gini', 'classifier__max_depth': None, 'classifier__min_samples_leaf': 1, 'classifier__min_samples_split': 2, 'classifier__n_estimators': 100}\n"
     ]
    }
   ],
   "source": [
    "params_rf1 = {'RandomForest': [{\n",
    "    'classifier__n_estimators':[10, 30, 100],\n",
    "    'classifier__criterion':['gini', 'entropy'],\n",
    "    'classifier__max_depth':[None, 1, 2, 5],\n",
    "    'classifier__min_samples_split':[2, 3, 5],\n",
    "    'classifier__min_samples_leaf':[1, 2, 5]\n",
    "}]}\n",
    "\n",
    "grid_search(params_rf1, name='RandomForest')"
   ]
  },
  {
   "cell_type": "code",
   "execution_count": 20,
   "metadata": {
    "colab": {
     "base_uri": "https://localhost:8080/"
    },
    "id": "ryVYeljcXsSN",
    "outputId": "80e7264a-3d0a-43ce-b708-4472fdf8412e"
   },
   "outputs": [
    {
     "name": "stdout",
     "output_type": "stream",
     "text": [
      "Running... RandomForest GridSearch\n",
      "Time Started: Fri Apr 22 14:33:44 2022\n",
      "Time Finished: Fri Apr 22 15:54:23 2022\n",
      "\n",
      "Best cross validation score: 95.88%\n",
      "Optimal parameters: {'classifier__criterion': 'gini', 'classifier__max_depth': None, 'classifier__min_samples_leaf': 1, 'classifier__min_samples_split': 2, 'classifier__n_estimators': 30}\n"
     ]
    }
   ],
   "source": [
    "grid_search(params_rf1, name='RandomForest_o', X_train=X_train_res, y_train=y_train_res)"
   ]
  },
  {
   "cell_type": "code",
   "execution_count": 21,
   "metadata": {
    "colab": {
     "base_uri": "https://localhost:8080/"
    },
    "id": "9dZC6BT0bs5C",
    "outputId": "921faa19-94d0-4971-aa7f-c623e8087e0a"
   },
   "outputs": [
    {
     "name": "stdout",
     "output_type": "stream",
     "text": [
      "Running... RandomForest GridSearch\n",
      "Time Started: Fri Apr 22 15:54:24 2022\n",
      "Time Finished: Fri Apr 22 16:07:37 2022\n",
      "\n",
      "Best cross validation score: 86.47%\n",
      "Optimal parameters: {'classifier__criterion': 'gini', 'classifier__max_depth': None, 'classifier__min_samples_leaf': 1, 'classifier__min_samples_split': 2, 'classifier__n_estimators': 100}\n"
     ]
    }
   ],
   "source": [
    "params_rf2 = {'RandomForest': [{\n",
    "    'classifier__n_estimators':[30, 100, 150],\n",
    "    'classifier__criterion':['gini', 'entropy'],\n",
    "    'classifier__max_depth':[None, 5, 10],\n",
    "    'classifier__min_samples_split':[1, 2],\n",
    "    'classifier__min_samples_leaf':[1, 10]\n",
    "}]}\n",
    "\n",
    "grid_search(params_rf2, name='RandomForest2')"
   ]
  },
  {
   "cell_type": "code",
   "execution_count": 22,
   "metadata": {
    "colab": {
     "base_uri": "https://localhost:8080/"
    },
    "id": "4cGrYQOVli_X",
    "outputId": "ef002ddd-73ce-4ad1-ea04-111a2851acf4"
   },
   "outputs": [
    {
     "name": "stdout",
     "output_type": "stream",
     "text": [
      "Running... RandomForest GridSearch\n",
      "Time Started: Fri Apr 22 16:07:37 2022\n",
      "Time Finished: Fri Apr 22 17:18:38 2022\n",
      "\n",
      "Best cross validation score: 93.11%\n",
      "Optimal parameters: {'classifier__criterion': 'gini', 'classifier__max_depth': None, 'classifier__min_samples_leaf': 1, 'classifier__min_samples_split': 2, 'classifier__n_estimators': 30}\n"
     ]
    }
   ],
   "source": [
    "grid_search(params_rf1, name='RandomForest_op', X_train=X_train_res, y_train=y_train_res, scoring='precision')"
   ]
  },
  {
   "cell_type": "code",
   "execution_count": 23,
   "metadata": {
    "colab": {
     "base_uri": "https://localhost:8080/"
    },
    "id": "vUeISjjbrX5F",
    "outputId": "1e91b70a-e5e5-4dcc-828b-b177b001e52d"
   },
   "outputs": [
    {
     "name": "stdout",
     "output_type": "stream",
     "text": [
      "Stored 'rf_best_params' (dict)\n"
     ]
    }
   ],
   "source": [
    "rf_best_params = tuned_params['RandomForest_op']\n",
    "%store rf_best_params"
   ]
  },
  {
   "cell_type": "code",
   "execution_count": 24,
   "metadata": {
    "colab": {
     "base_uri": "https://localhost:8080/"
    },
    "id": "DNjMOgQht-OS",
    "outputId": "5b30f29c-af16-4e4e-a4d5-af07aa700108"
   },
   "outputs": [
    {
     "name": "stdout",
     "output_type": "stream",
     "text": [
      "Running... ExtraTrees GridSearch\n",
      "Time Started: Fri Apr 22 17:18:38 2022\n",
      "Time Finished: Fri Apr 22 17:58:38 2022\n",
      "\n",
      "Best cross validation score: 86.57%\n",
      "Optimal parameters: {'classifier__criterion': 'entropy', 'classifier__max_depth': None, 'classifier__min_samples_leaf': 1, 'classifier__min_samples_split': 5, 'classifier__n_estimators': 100}\n"
     ]
    }
   ],
   "source": [
    "params_et1 = {'ExtraTrees': [{\n",
    "    'classifier__n_estimators':[10, 30, 100],\n",
    "    'classifier__criterion':['gini', 'entropy'],\n",
    "    'classifier__max_depth':[None, 1, 2, 5],\n",
    "    'classifier__min_samples_split':[2, 3, 5],\n",
    "    'classifier__min_samples_leaf':[1, 2, 5]\n",
    "}]}\n",
    "\n",
    "grid_search(params_et1, name='ExtraTrees')"
   ]
  },
  {
   "cell_type": "code",
   "execution_count": 25,
   "metadata": {
    "colab": {
     "base_uri": "https://localhost:8080/"
    },
    "id": "NxTCEvr4t_tI",
    "outputId": "8c283c45-5db8-4864-937d-35fd235d4c6f"
   },
   "outputs": [
    {
     "name": "stdout",
     "output_type": "stream",
     "text": [
      "Running... ExtraTrees GridSearch\n",
      "Time Started: Fri Apr 22 17:58:38 2022\n",
      "Time Finished: Fri Apr 22 19:17:37 2022\n",
      "\n",
      "Best cross validation score: 97.06%\n",
      "Optimal parameters: {'classifier__criterion': 'gini', 'classifier__max_depth': None, 'classifier__min_samples_leaf': 1, 'classifier__min_samples_split': 2, 'classifier__n_estimators': 30}\n"
     ]
    }
   ],
   "source": [
    "grid_search(params_et1, name='ExtraTrees_o', X_train=X_train_res, y_train=y_train_res)"
   ]
  },
  {
   "cell_type": "code",
   "execution_count": 26,
   "metadata": {
    "colab": {
     "base_uri": "https://localhost:8080/"
    },
    "id": "yvRZT-bxyRlI",
    "outputId": "d764f4cd-40a6-4b7c-f4d6-200807445c73"
   },
   "outputs": [
    {
     "name": "stdout",
     "output_type": "stream",
     "text": [
      "Running... ExtraTrees GridSearch\n",
      "Time Started: Fri Apr 22 19:17:37 2022\n",
      "Time Finished: Fri Apr 22 19:54:32 2022\n",
      "\n",
      "Best cross validation score: 86.60%\n",
      "Optimal parameters: {'classifier__criterion': 'entropy', 'classifier__max_depth': None, 'classifier__min_samples_leaf': 1, 'classifier__min_samples_split': 10, 'classifier__n_estimators': 100}\n"
     ]
    }
   ],
   "source": [
    "params_et2 = {'ExtraTrees': [{\n",
    "    'classifier__n_estimators':[30, 50, 100],\n",
    "    'classifier__criterion':['gini', 'entropy'],\n",
    "    'classifier__max_depth':[None, 3, 10],\n",
    "    'classifier__min_samples_split':[2, 5, 10],\n",
    "    'classifier__min_samples_leaf':[1, 3, 10]\n",
    "}]}\n",
    "\n",
    "grid_search(params_et2, name='ExtraTrees')"
   ]
  },
  {
   "cell_type": "code",
   "execution_count": 27,
   "metadata": {
    "colab": {
     "base_uri": "https://localhost:8080/"
    },
    "id": "Ed9iq3TldcwZ",
    "outputId": "87106f8f-119b-47d7-e2d4-21abd2737961"
   },
   "outputs": [
    {
     "name": "stdout",
     "output_type": "stream",
     "text": [
      "Running... ExtraTrees GridSearch\n",
      "Time Started: Fri Apr 22 19:54:32 2022\n",
      "Time Finished: Fri Apr 22 21:06:25 2022\n",
      "\n",
      "Best cross validation score: 97.06%\n",
      "Optimal parameters: {'classifier__criterion': 'gini', 'classifier__max_depth': None, 'classifier__min_samples_leaf': 1, 'classifier__min_samples_split': 2, 'classifier__n_estimators': 30}\n"
     ]
    }
   ],
   "source": [
    "grid_search(params_et2, name='ExtraTrees2_o', X_train=X_train_res, y_train=y_train_res)"
   ]
  },
  {
   "cell_type": "code",
   "execution_count": 28,
   "metadata": {
    "colab": {
     "base_uri": "https://localhost:8080/"
    },
    "id": "sccckc7Jjal-",
    "outputId": "319901a2-bc86-4fb9-c9a6-6332d59f6435"
   },
   "outputs": [
    {
     "name": "stdout",
     "output_type": "stream",
     "text": [
      "Running... ExtraTrees GridSearch\n",
      "Time Started: Fri Apr 22 21:06:25 2022\n",
      "Time Finished: Fri Apr 22 22:21:31 2022\n",
      "\n",
      "Best cross validation score: 95.32%\n",
      "Optimal parameters: {'classifier__criterion': 'gini', 'classifier__max_depth': None, 'classifier__min_samples_leaf': 1, 'classifier__min_samples_split': 2, 'classifier__n_estimators': 30}\n"
     ]
    }
   ],
   "source": [
    "grid_search(params_et2, name='ExtraTrees2_op', X_train=X_train_res, y_train=y_train_res, scoring='precision')"
   ]
  },
  {
   "cell_type": "code",
   "execution_count": 29,
   "metadata": {
    "colab": {
     "base_uri": "https://localhost:8080/"
    },
    "id": "vp_dYWHDsFZI",
    "outputId": "4ff0a690-8ad5-4a21-8732-fd1e6e829560"
   },
   "outputs": [
    {
     "name": "stdout",
     "output_type": "stream",
     "text": [
      "Stored 'et_best_params' (dict)\n"
     ]
    }
   ],
   "source": [
    "et_best_params = tuned_params['ExtraTrees2_op']\n",
    "%store et_best_params"
   ]
  },
  {
   "cell_type": "code",
   "execution_count": 30,
   "metadata": {
    "colab": {
     "base_uri": "https://localhost:8080/"
    },
    "id": "UL31r2qi0Hse",
    "outputId": "4e029d7b-6749-4197-9107-941efb2e67f7"
   },
   "outputs": [
    {
     "name": "stdout",
     "output_type": "stream",
     "text": [
      "Running... GradientBoost GridSearch\n",
      "Time Started: Fri Apr 22 22:21:31 2022\n",
      "Time Finished: Sat Apr 23 02:03:14 2022\n",
      "\n",
      "Best cross validation score: 87.19%\n",
      "Optimal parameters: {'classifier__criterion': 'friedman_mse', 'classifier__loss': 'exponential', 'classifier__max_depth': 5, 'classifier__min_samples_leaf': 1, 'classifier__min_samples_split': 5, 'classifier__n_estimators': 100}\n"
     ]
    }
   ],
   "source": [
    "params_gb1 = {'GradientBoost': [{\n",
    "    'classifier__loss': ['deviance', 'exponential'],\n",
    "    'classifier__n_estimators':[10, 30, 100],\n",
    "    'classifier__criterion':['friedman_mse', 'squared_error'],\n",
    "    'classifier__max_depth':[None, 1, 2, 5],\n",
    "    'classifier__min_samples_split':[2, 3, 5],\n",
    "    'classifier__min_samples_leaf':[1, 2, 5]\n",
    "}]}\n",
    "\n",
    "grid_search(params_gb1, name='GradientBoost')"
   ]
  },
  {
   "cell_type": "code",
   "execution_count": 31,
   "metadata": {
    "colab": {
     "base_uri": "https://localhost:8080/"
    },
    "id": "lD2yNBeV0JSK",
    "outputId": "ea80be97-968a-471a-f51f-f0fae24a4c71"
   },
   "outputs": [
    {
     "name": "stdout",
     "output_type": "stream",
     "text": [
      "Running... GradientBoost GridSearch\n",
      "Time Started: Sat Apr 23 02:03:14 2022\n",
      "Time Finished: Sat Apr 23 08:11:11 2022\n",
      "\n",
      "Best cross validation score: 95.54%\n",
      "Optimal parameters: {'classifier__criterion': 'friedman_mse', 'classifier__loss': 'deviance', 'classifier__max_depth': None, 'classifier__min_samples_leaf': 5, 'classifier__min_samples_split': 2, 'classifier__n_estimators': 100}\n"
     ]
    }
   ],
   "source": [
    "grid_search(params_gb1, name='GradientBoost_o', X_train=X_train_res, y_train=y_train_res)"
   ]
  },
  {
   "cell_type": "code",
   "execution_count": 32,
   "metadata": {
    "id": "Bjd0s36HtgsE"
   },
   "outputs": [
    {
     "name": "stdout",
     "output_type": "stream",
     "text": [
      "Running... GradientBoost GridSearch\n",
      "Time Started: Sat Apr 23 09:00:18 2022\n",
      "Time Finished: Sat Apr 23 18:14:55 2022\n",
      "\n",
      "Best cross validation score: 87.19%\n",
      "Optimal parameters: {'classifier__criterion': 'friedman_mse', 'classifier__loss': 'exponential', 'classifier__max_depth': 5, 'classifier__min_samples_leaf': 1, 'classifier__min_samples_split': 5, 'classifier__n_estimators': 100}\n"
     ]
    }
   ],
   "source": [
    "params_gb2 = {'GradientBoost': [{\n",
    "    'classifier__loss': ['deviance', 'exponential'],\n",
    "    'classifier__n_estimators':[100, 150, 300],\n",
    "    'classifier__criterion':['friedman_mse'],\n",
    "    'classifier__max_depth':[None, 3, 5],\n",
    "    'classifier__min_samples_split':[1, 2, 5],\n",
    "    'classifier__min_samples_leaf':[1, 3, 5]\n",
    "}]}\n",
    "\n",
    "grid_search(params_gb2, name='GradientBoost2')"
   ]
  },
  {
   "cell_type": "code",
   "execution_count": 33,
   "metadata": {},
   "outputs": [
    {
     "name": "stdout",
     "output_type": "stream",
     "text": [
      "Running... GradientBoost GridSearch\n",
      "Time Started: Sat Apr 23 20:03:11 2022\n",
      "Time Finished: Sun Apr 24 03:13:43 2022\n",
      "\n",
      "Best cross validation score: 92.48%\n",
      "Optimal parameters: {'classifier__criterion': 'friedman_mse', 'classifier__loss': 'deviance', 'classifier__max_depth': None, 'classifier__min_samples_leaf': 5, 'classifier__min_samples_split': 2, 'classifier__n_estimators': 100}\n"
     ]
    }
   ],
   "source": [
    "grid_search(params_gb1, name='GradientBoost_op', X_train=X_train_res, y_train=y_train_res, scoring='precision')"
   ]
  },
  {
   "cell_type": "code",
   "execution_count": 34,
   "metadata": {},
   "outputs": [
    {
     "name": "stdout",
     "output_type": "stream",
     "text": [
      "Stored 'gb_best_params' (dict)\n"
     ]
    }
   ],
   "source": [
    "gb_best_params = tuned_params['GradientBoost_o']\n",
    "%store gb_best_params"
   ]
  },
  {
   "cell_type": "markdown",
   "metadata": {},
   "source": [
    "# Contact\n",
    "Feel free to contact me for any questions and connect with me on [Linkedin](https://www.linkedin.com/in/czarinagluna)."
   ]
  }
 ],
 "metadata": {
  "colab": {
   "authorship_tag": "ABX9TyM3gH+xNSsDyH3LcTjMM/qA",
   "include_colab_link": true,
   "name": "GridSearch.ipynb",
   "provenance": []
  },
  "kernelspec": {
   "display_name": "Python 3",
   "language": "python",
   "name": "python3"
  },
  "language_info": {
   "codemirror_mode": {
    "name": "ipython",
    "version": 3
   },
   "file_extension": ".py",
   "mimetype": "text/x-python",
   "name": "python",
   "nbconvert_exporter": "python",
   "pygments_lexer": "ipython3",
   "version": "3.8.5"
  },
  "varInspector": {
   "cols": {
    "lenName": 16,
    "lenType": 16,
    "lenVar": 40
   },
   "kernels_config": {
    "python": {
     "delete_cmd_postfix": "",
     "delete_cmd_prefix": "del ",
     "library": "var_list.py",
     "varRefreshCmd": "print(var_dic_list())"
    },
    "r": {
     "delete_cmd_postfix": ") ",
     "delete_cmd_prefix": "rm(",
     "library": "var_list.r",
     "varRefreshCmd": "cat(var_dic_list()) "
    }
   },
   "types_to_exclude": [
    "module",
    "function",
    "builtin_function_or_method",
    "instance",
    "_Feature"
   ],
   "window_display": false
  }
 },
 "nbformat": 4,
 "nbformat_minor": 1
}
