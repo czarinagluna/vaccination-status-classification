{
 "cells": [
  {
   "cell_type": "markdown",
   "metadata": {},
   "source": [
    "# Search for Optimal Parameters of Classification Models\n",
    "Hyperparameter Tuning of *IV. Classification Models* in [Main Notebook](https://github.com/czarinagluna/vaccination-status-classification/blob/main/main.ipynb)\n",
    "***\n",
    "Authors: [Czarina Luna](https://www.linkedin.com/in/czarinaluna/), Weston Shuken, Justin Sohn"
   ]
  },
  {
   "cell_type": "code",
   "execution_count": 1,
   "metadata": {},
   "outputs": [],
   "source": [
    "%store -r preprocessor"
   ]
  },
  {
   "cell_type": "code",
   "execution_count": 2,
   "metadata": {},
   "outputs": [],
   "source": [
    "%store -r X_train"
   ]
  },
  {
   "cell_type": "code",
   "execution_count": 3,
   "metadata": {},
   "outputs": [],
   "source": [
    "%store -r y_train"
   ]
  },
  {
   "cell_type": "code",
   "execution_count": 4,
   "metadata": {},
   "outputs": [],
   "source": [
    "%store -r X_train_res"
   ]
  },
  {
   "cell_type": "code",
   "execution_count": 5,
   "metadata": {},
   "outputs": [],
   "source": [
    "%store -r y_train_res"
   ]
  },
  {
   "cell_type": "code",
   "execution_count": 6,
   "metadata": {},
   "outputs": [],
   "source": [
    "from sklearn.linear_model import LogisticRegression\n",
    "from sklearn.tree import DecisionTreeClassifier\n",
    "from sklearn.ensemble import RandomForestClassifier, ExtraTreesClassifier, GradientBoostingClassifier\n",
    "\n",
    "default_models = {'LogisticRegression': {'classifier': LogisticRegression(random_state=112221)},\n",
    "                  'DecisionTree': {'classifier': DecisionTreeClassifier(random_state=112221)},\n",
    "                  'RandomForest': {'classifier': RandomForestClassifier(random_state=112221)},\n",
    "                  'ExtraTrees': {'classifier': ExtraTreesClassifier(random_state=112221)},\n",
    "                  'GradientBoost': {'classifier': GradientBoostingClassifier(random_state=112221)}}"
   ]
  },
  {
   "cell_type": "code",
   "execution_count": 7,
   "metadata": {},
   "outputs": [],
   "source": [
    "import time\n",
    "\n",
    "from sklearn.model_selection import train_test_split, GridSearchCV\n",
    "from sklearn.pipeline import Pipeline\n",
    "\n",
    "tuned_params = {}\n",
    "\n",
    "def grid_search(params, name, scoring='accuracy', X_train=X_train, y_train=y_train):\n",
    "    '''\n",
    "    Performs grid search on classification models, returns best cross validation scores and parameters\n",
    "    '''\n",
    "    for model, grid in params.items():\n",
    "        print(f'Running... {model} GridSearch')\n",
    "        print(f'Time Started: {time.asctime()}')\n",
    "        \n",
    "        pipe = Pipeline(steps=[('col_transformer', preprocessor), \n",
    "                               ('classifier', default_models[model]['classifier'])])\n",
    "        \n",
    "        gridsearch = GridSearchCV(estimator=pipe, param_grid=grid, scoring=scoring, cv=5)\n",
    "        gridsearch.fit(X_train, y_train)\n",
    "        \n",
    "        print(f'Time Finished: {time.asctime()}\\n')\n",
    "        print(f'Best cross validation score: {gridsearch.best_score_ :.2%}')\n",
    "        print(f'Optimal parameters: {gridsearch.best_params_}')\n",
    "        \n",
    "        tuned_params[name] = gridsearch.best_params_\n",
    "        \n",
    "import warnings\n",
    "warnings.filterwarnings('ignore')"
   ]
  },
  {
   "cell_type": "markdown",
   "metadata": {},
   "source": [
    "**Logistic Regression**"
   ]
  },
  {
   "cell_type": "code",
   "execution_count": 9,
   "metadata": {},
   "outputs": [],
   "source": [
    "params_lr1 = {'LogisticRegression': [{\n",
    "    'classifier__penalty':['l1', 'l2', 'elasticnet'],\n",
    "    'classifier__C':[0.01, 0.1, 1],\n",
    "    'classifier__fit_intercept':[True, False],\n",
    "    'classifier__solver':['lbfgs', 'saga']\n",
    "}]}\n",
    "\n",
    "grid_search(params_lr1, name='LogisticRegression')"
   ]
  },
  {
   "cell_type": "code",
   "execution_count": null,
   "metadata": {},
   "outputs": [],
   "source": [
    "grid_search(params_lr1, name='LogisticRegression_o', X_train=X_train_res, y_train=y_train_res)"
   ]
  },
  {
   "cell_type": "code",
   "execution_count": 11,
   "metadata": {},
   "outputs": [
    {
     "name": "stdout",
     "output_type": "stream",
     "text": [
      "Running... LogisticRegression GridSearch\n",
      "Time Started: Tue Apr 19 16:02:44 2022\n",
      "Time Finished: Tue Apr 19 16:10:52 2022\n",
      "\n",
      "Best cross validation score: 86.76%\n",
      "Optimal parameters: {'classifier__C': 1, 'classifier__fit_intercept': False, 'classifier__penalty': 'l1', 'classifier__solver': 'saga'}\n"
     ]
    }
   ],
   "source": [
    "params_lr2 = {'LogisticRegression': [{\n",
    "    'classifier__penalty':['l1', 'l2', 'elasticnet'],\n",
    "    'classifier__C':[0.001, 1, 10, 100],\n",
    "    'classifier__fit_intercept':[True, False],\n",
    "    'classifier__solver':['lbfgs', 'saga']\n",
    "}]}\n",
    "\n",
    "grid_search(params_lr2, name='LogisticRegression2')"
   ]
  },
  {
   "cell_type": "code",
   "execution_count": 12,
   "metadata": {},
   "outputs": [
    {
     "name": "stdout",
     "output_type": "stream",
     "text": [
      "Running... LogisticRegression GridSearch\n",
      "Time Started: Tue Apr 19 18:44:17 2022\n",
      "Time Finished: Tue Apr 19 18:54:23 2022\n",
      "\n",
      "Best cross validation score: 83.71%\n",
      "Optimal parameters: {'classifier__C': 10, 'classifier__fit_intercept': True, 'classifier__penalty': 'l1', 'classifier__solver': 'saga'}\n"
     ]
    }
   ],
   "source": [
    "grid_search(params_lr2, name='LogisticRegression2_o', X_train=X_train_res, y_train=y_train_res)"
   ]
  },
  {
   "cell_type": "code",
   "execution_count": null,
   "metadata": {},
   "outputs": [],
   "source": [
    "grid_search(params_lr1, name='LogisticRegression_p', scoring='precision')"
   ]
  },
  {
   "cell_type": "code",
   "execution_count": null,
   "metadata": {},
   "outputs": [],
   "source": [
    "lr_best_params = tuned_params['LogisticRegression']\n",
    "%store lr_best_params"
   ]
  },
  {
   "cell_type": "markdown",
   "metadata": {},
   "source": [
    "**Decision Tree**"
   ]
  },
  {
   "cell_type": "code",
   "execution_count": null,
   "metadata": {},
   "outputs": [],
   "source": [
    "params_dt1 = {'DecisionTree': [{\n",
    "    'classifier__criterion':['gini', 'entropy'],\n",
    "    'classifier__splitter':['best', 'random'],\n",
    "    'classifier__max_depth':[None, 1, 2, 5],\n",
    "    'classifier__min_samples_split': [2, 3, 5],\n",
    "    'classifier__min_samples_leaf': [1, 2, 5],\n",
    "}]}\n",
    "\n",
    "grid_search(params_dt1, name='DecisionTree')"
   ]
  },
  {
   "cell_type": "code",
   "execution_count": null,
   "metadata": {},
   "outputs": [],
   "source": [
    "grid_search(params_dt1, name='DecisionTree_p', scoring='precision')"
   ]
  },
  {
   "cell_type": "code",
   "execution_count": null,
   "metadata": {},
   "outputs": [],
   "source": [
    "dt_best_params = tuned_params['DecisionTree']\n",
    "%store dt_best_params"
   ]
  },
  {
   "cell_type": "markdown",
   "metadata": {},
   "source": [
    "**Random Forest**"
   ]
  },
  {
   "cell_type": "code",
   "execution_count": null,
   "metadata": {},
   "outputs": [],
   "source": [
    "params_rf1 = {'RandomForest': [{\n",
    "    'classifier__n_estimators':[10, 30, 100],\n",
    "    'classifier__criterion':['gini', 'entropy'],\n",
    "    'classifier__max_depth':[None, 1, 2, 5],\n",
    "    'classifier__min_samples_split':[2, 3, 5],\n",
    "    'classifier__min_samples_leaf':[1, 2, 5]\n",
    "}]}\n",
    "\n",
    "grid_search(params_rf1, name='RandomForest')"
   ]
  },
  {
   "cell_type": "code",
   "execution_count": null,
   "metadata": {
    "scrolled": true
   },
   "outputs": [],
   "source": [
    "grid_search(params_rf1, name='RandomForest_p', scoring='precision')"
   ]
  },
  {
   "cell_type": "code",
   "execution_count": null,
   "metadata": {},
   "outputs": [],
   "source": [
    "rf_best_params = tuned_params['RandomForest']\n",
    "%store rf_best_params"
   ]
  },
  {
   "cell_type": "markdown",
   "metadata": {},
   "source": [
    "**Extra Trees**"
   ]
  },
  {
   "cell_type": "code",
   "execution_count": null,
   "metadata": {},
   "outputs": [],
   "source": [
    "params_et1 = {'ExtraTrees': [{\n",
    "    'classifier__n_estimators':[10, 30, 100],\n",
    "    'classifier__criterion':['gini', 'entropy'],\n",
    "    'classifier__max_depth':[None, 1, 2, 5],\n",
    "    'classifier__min_samples_split':[2, 3, 5],\n",
    "    'classifier__min_samples_leaf':[1, 2, 5]\n",
    "}]}\n",
    "\n",
    "grid_search(params_et1, name='ExtraTrees')"
   ]
  },
  {
   "cell_type": "code",
   "execution_count": null,
   "metadata": {},
   "outputs": [],
   "source": [
    "grid_search(params_et1, name='ExtraTrees_p', scoring='precision')"
   ]
  },
  {
   "cell_type": "code",
   "execution_count": null,
   "metadata": {},
   "outputs": [],
   "source": []
  },
  {
   "cell_type": "code",
   "execution_count": null,
   "metadata": {},
   "outputs": [],
   "source": [
    "et_best_params = tuned_params['ExtraTrees']\n",
    "%store et_best_params"
   ]
  },
  {
   "cell_type": "markdown",
   "metadata": {},
   "source": [
    "**Gradient Boost**"
   ]
  },
  {
   "cell_type": "code",
   "execution_count": null,
   "metadata": {},
   "outputs": [],
   "source": [
    "params_gb1 = {'GradientBoost': [{\n",
    "    'classifier__loss': ['deviance', 'exponential'],\n",
    "    'classifier__n_estimators':[10, 30, 100],\n",
    "    'classifier__criterion':['friedman_mse', 'squared_error'],\n",
    "    'classifier__max_depth':[None, 1, 2, 5],\n",
    "    'classifier__min_samples_split':[2, 3, 5],\n",
    "    'classifier__min_samples_leaf':[1, 2, 5]\n",
    "}]}\n",
    "\n",
    "grid_search(params_gb1, name='GradientBoost')"
   ]
  },
  {
   "cell_type": "code",
   "execution_count": null,
   "metadata": {
    "scrolled": true
   },
   "outputs": [],
   "source": [
    "grid_search(params_gb1, name='GradientBoost_p', scoring='precision')"
   ]
  },
  {
   "cell_type": "code",
   "execution_count": null,
   "metadata": {},
   "outputs": [],
   "source": [
    "params_gb2 = {'GradientBoost': [{\n",
    "    'classifier__loss': ['deviance', 'exponential'],\n",
    "    'classifier__n_estimators':[100, 150, 300],\n",
    "    'classifier__criterion':['friedman_mse', 'squared_error'],\n",
    "    'classifier__max_depth':[None, 3, 10],\n",
    "    'classifier__min_samples_split':[None, 1, 2],\n",
    "    'classifier__min_samples_leaf':[3, 5, 10]\n",
    "}]}\n",
    "\n",
    "grid_search(params_gb2, name='GradientBoost3')"
   ]
  },
  {
   "cell_type": "code",
   "execution_count": null,
   "metadata": {},
   "outputs": [],
   "source": [
    "params_gb3 = {'GradientBoost': [{\n",
    "    'classifier__loss': ['deviance', 'exponential'],\n",
    "    'classifier__n_estimators':[200, 300, 500],\n",
    "    'classifier__criterion':['friedman_mse', 'squared_error'],\n",
    "    'classifier__max_depth':[None, 1],\n",
    "    'classifier__min_samples_split':[2, 4, 10],\n",
    "    'classifier__min_samples_leaf':[1, 3, 5]\n",
    "}]}\n",
    "\n",
    "grid_search(params_gb3, name='GradientBoost4')"
   ]
  },
  {
   "cell_type": "code",
   "execution_count": null,
   "metadata": {},
   "outputs": [],
   "source": [
    "gb_best_params = tuned_params['GradientBoost']\n",
    "%store gb_best_params"
   ]
  },
  {
   "cell_type": "markdown",
   "metadata": {},
   "source": [
    "# Contact\n",
    "Feel free to contact me for any questions and connect with me on [Linkedin](https://www.linkedin.com/in/czarinagluna)."
   ]
  }
 ],
 "metadata": {
  "kernelspec": {
   "display_name": "Python (learn-env)",
   "language": "python",
   "name": "learn-env"
  },
  "language_info": {
   "codemirror_mode": {
    "name": "ipython",
    "version": 3
   },
   "file_extension": ".py",
   "mimetype": "text/x-python",
   "name": "python",
   "nbconvert_exporter": "python",
   "pygments_lexer": "ipython3",
   "version": "3.8.5"
  },
  "varInspector": {
   "cols": {
    "lenName": 16,
    "lenType": 16,
    "lenVar": 40
   },
   "kernels_config": {
    "python": {
     "delete_cmd_postfix": "",
     "delete_cmd_prefix": "del ",
     "library": "var_list.py",
     "varRefreshCmd": "print(var_dic_list())"
    },
    "r": {
     "delete_cmd_postfix": ") ",
     "delete_cmd_prefix": "rm(",
     "library": "var_list.r",
     "varRefreshCmd": "cat(var_dic_list()) "
    }
   },
   "types_to_exclude": [
    "module",
    "function",
    "builtin_function_or_method",
    "instance",
    "_Feature"
   ],
   "window_display": false
  }
 },
 "nbformat": 4,
 "nbformat_minor": 4
}
